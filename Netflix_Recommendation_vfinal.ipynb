{
 "cells": [
  {
   "cell_type": "markdown",
   "metadata": {
    "jupyter": {
     "outputs_hidden": true
    }
   },
   "source": [
    "## NETFLIX RECOMMENDATION"
   ]
  },
  {
   "cell_type": "code",
   "execution_count": 107,
   "metadata": {},
   "outputs": [
    {
     "data": {
      "application/vnd.jupyter.widget-view+json": {
       "model_id": "f96998a1ceb245bc91ffa25efd540cce",
       "version_major": 2,
       "version_minor": 0
      },
      "text/plain": [
       "VBox()"
      ]
     },
     "metadata": {},
     "output_type": "display_data"
    },
    {
     "data": {
      "application/vnd.jupyter.widget-view+json": {
       "model_id": "",
       "version_major": 2,
       "version_minor": 0
      },
      "text/plain": [
       "FloatProgress(value=0.0, bar_style='info', description='Progress:', layout=Layout(height='25px', width='50%'),…"
      ]
     },
     "metadata": {},
     "output_type": "display_data"
    },
    {
     "name": "stderr",
     "output_type": "stream",
     "text": [
      "Package already installed for current Spark context!\n",
      "Traceback (most recent call last):\n",
      "  File \"/usr/lib/spark/python/lib/pyspark.zip/pyspark/context.py\", line 1110, in install_pypi_package\n",
      "    raise ValueError(\"Package already installed for current Spark context!\")\n",
      "ValueError: Package already installed for current Spark context!\n",
      "\n"
     ]
    }
   ],
   "source": [
    "#############################################################################################################\n",
    "\n",
    "#  Packages installed : Pandas and Matplotlib\n",
    "# # sc.list_packages()\n",
    "sc.install_pypi_package(\"pandas==1.0.3\") #Install pandas version 0.25.1 \n",
    "sc.install_pypi_package(\"matplotlib\", \"https://pypi.org/simple\") "
   ]
  },
  {
   "cell_type": "code",
   "execution_count": 108,
   "metadata": {},
   "outputs": [
    {
     "data": {
      "application/vnd.jupyter.widget-view+json": {
       "model_id": "d8e39e2136f34cfb923967e807d3e109",
       "version_major": 2,
       "version_minor": 0
      },
      "text/plain": [
       "VBox()"
      ]
     },
     "metadata": {},
     "output_type": "display_data"
    },
    {
     "data": {
      "application/vnd.jupyter.widget-view+json": {
       "model_id": "",
       "version_major": 2,
       "version_minor": 0
      },
      "text/plain": [
       "FloatProgress(value=0.0, bar_style='info', description='Progress:', layout=Layout(height='25px', width='50%'),…"
      ]
     },
     "metadata": {},
     "output_type": "display_data"
    }
   ],
   "source": [
    "# Importing the required packages for Pyspark\n",
    "import pyspark.sql.functions as F\n",
    "from pyspark.sql.functions import *\n",
    "from pyspark.sql.window import Window\n",
    "import pandas as pd\n",
    "import numpy as np\n",
    "import matplotlib.pyplot as plt"
   ]
  },
  {
   "cell_type": "code",
   "execution_count": 109,
   "metadata": {},
   "outputs": [
    {
     "data": {
      "application/vnd.jupyter.widget-view+json": {
       "model_id": "1688039fbe4940299eb8a9746c6fbd7b",
       "version_major": 2,
       "version_minor": 0
      },
      "text/plain": [
       "VBox()"
      ]
     },
     "metadata": {},
     "output_type": "display_data"
    },
    {
     "data": {
      "application/vnd.jupyter.widget-view+json": {
       "model_id": "",
       "version_major": 2,
       "version_minor": 0
      },
      "text/plain": [
       "FloatProgress(value=0.0, bar_style='info', description='Progress:', layout=Layout(height='25px', width='50%'),…"
      ]
     },
     "metadata": {},
     "output_type": "display_data"
    }
   ],
   "source": [
    "# Reading the Data Sources\n",
    "Movies_DF = spark.read.option('delimiter',\",\").csv(\"s3://aws-emr-resources-947946919000-us-east-1/data files/movie_titles.txt\")\n",
    "Training_DF = spark.read.option('delimiter',\",\").csv(\"s3://aws-emr-resources-947946919000-us-east-1/data files/TrainingRatings.txt\") \n",
    "Testing_DF = spark.read.option('delimiter',\",\").csv(\"s3://aws-emr-resources-947946919000-us-east-1/data files/TestingRatings.txt\")"
   ]
  },
  {
   "cell_type": "markdown",
   "metadata": {},
   "source": [
    "### Data Understanding"
   ]
  },
  {
   "cell_type": "code",
   "execution_count": 110,
   "metadata": {},
   "outputs": [
    {
     "data": {
      "application/vnd.jupyter.widget-view+json": {
       "model_id": "804d6a25ca6f4308b1368a16f2bb2788",
       "version_major": 2,
       "version_minor": 0
      },
      "text/plain": [
       "VBox()"
      ]
     },
     "metadata": {},
     "output_type": "display_data"
    },
    {
     "data": {
      "application/vnd.jupyter.widget-view+json": {
       "model_id": "",
       "version_major": 2,
       "version_minor": 0
      },
      "text/plain": [
       "FloatProgress(value=0.0, bar_style='info', description='Progress:', layout=Layout(height='25px', width='50%'),…"
      ]
     },
     "metadata": {},
     "output_type": "display_data"
    }
   ],
   "source": [
    "# Renaming the column names of the dataframe for analysis\n",
    "Movies_DF = Movies_DF.withColumnRenamed('_c0','MovieID').withColumnRenamed('_c1','YOR').withColumnRenamed('_c2','Movie_Desc')"
   ]
  },
  {
   "cell_type": "code",
   "execution_count": 111,
   "metadata": {},
   "outputs": [
    {
     "data": {
      "application/vnd.jupyter.widget-view+json": {
       "model_id": "1ca236cf84cf4e109c6782dbe1d3cd67",
       "version_major": 2,
       "version_minor": 0
      },
      "text/plain": [
       "VBox()"
      ]
     },
     "metadata": {},
     "output_type": "display_data"
    },
    {
     "data": {
      "application/vnd.jupyter.widget-view+json": {
       "model_id": "",
       "version_major": 2,
       "version_minor": 0
      },
      "text/plain": [
       "FloatProgress(value=0.0, bar_style='info', description='Progress:', layout=Layout(height='25px', width='50%'),…"
      ]
     },
     "metadata": {},
     "output_type": "display_data"
    },
    {
     "name": "stdout",
     "output_type": "stream",
     "text": [
      "+----+-----------------+\n",
      "| YOR|count(Movie_Desc)|\n",
      "+----+-----------------+\n",
      "|NULL|                7|\n",
      "|2005|              512|\n",
      "|2004|             1436|\n",
      "|2003|             1271|\n",
      "|2002|             1310|\n",
      "|2001|             1184|\n",
      "|2000|             1234|\n",
      "|1999|              965|\n",
      "|1998|              743|\n",
      "|1997|              653|\n",
      "|1996|              533|\n",
      "|1995|              490|\n",
      "|1994|              459|\n",
      "|1993|              376|\n",
      "|1992|              342|\n",
      "|1991|              316|\n",
      "|1990|              296|\n",
      "|1989|              276|\n",
      "|1988|              283|\n",
      "|1987|              267|\n",
      "+----+-----------------+\n",
      "only showing top 20 rows"
     ]
    }
   ],
   "source": [
    "Movies_DF.groupBy('YOR').agg({'Movie_Desc':'Count'}).orderBy('YOR',ascending=False).show()"
   ]
  },
  {
   "cell_type": "code",
   "execution_count": 112,
   "metadata": {},
   "outputs": [
    {
     "data": {
      "application/vnd.jupyter.widget-view+json": {
       "model_id": "ab24c5a35b024c55a6bea0971b12aadc",
       "version_major": 2,
       "version_minor": 0
      },
      "text/plain": [
       "VBox()"
      ]
     },
     "metadata": {},
     "output_type": "display_data"
    },
    {
     "data": {
      "application/vnd.jupyter.widget-view+json": {
       "model_id": "",
       "version_major": 2,
       "version_minor": 0
      },
      "text/plain": [
       "FloatProgress(value=0.0, bar_style='info', description='Progress:', layout=Layout(height='25px', width='50%'),…"
      ]
     },
     "metadata": {},
     "output_type": "display_data"
    },
    {
     "name": "stdout",
     "output_type": "stream",
     "text": [
      "+-------+-----+\n",
      "|MovieID|Count|\n",
      "+-------+-----+\n",
      "+-------+-----+"
     ]
    }
   ],
   "source": [
    "# Checking the level of data\n",
    "(Movies_DF.groupBy('MovieID').agg(F.countDistinct(\"Movie_Desc\").alias(\"Count\")).filter(F.col('Count')>1).show())"
   ]
  },
  {
   "cell_type": "code",
   "execution_count": 113,
   "metadata": {},
   "outputs": [
    {
     "data": {
      "application/vnd.jupyter.widget-view+json": {
       "model_id": "25f0034871554882a1fb7f46a63c0f50",
       "version_major": 2,
       "version_minor": 0
      },
      "text/plain": [
       "VBox()"
      ]
     },
     "metadata": {},
     "output_type": "display_data"
    },
    {
     "data": {
      "application/vnd.jupyter.widget-view+json": {
       "model_id": "",
       "version_major": 2,
       "version_minor": 0
      },
      "text/plain": [
       "FloatProgress(value=0.0, bar_style='info', description='Progress:', layout=Layout(height='25px', width='50%'),…"
      ]
     },
     "metadata": {},
     "output_type": "display_data"
    },
    {
     "name": "stdout",
     "output_type": "stream",
     "text": [
      "+---+-------+---+\n",
      "|_c0|    _c1|_c2|\n",
      "+---+-------+---+\n",
      "|  8|1744889|1.0|\n",
      "|  8|1395430|2.0|\n",
      "|  8|1205593|4.0|\n",
      "|  8|1488844|4.0|\n",
      "|  8|1447354|1.0|\n",
      "|  8| 306466|4.0|\n",
      "|  8|1331154|4.0|\n",
      "|  8|1818178|3.0|\n",
      "|  8| 991725|4.0|\n",
      "|  8|1987434|4.0|\n",
      "+---+-------+---+\n",
      "only showing top 10 rows"
     ]
    }
   ],
   "source": [
    "Training_DF.show(10)"
   ]
  },
  {
   "cell_type": "code",
   "execution_count": 114,
   "metadata": {},
   "outputs": [
    {
     "data": {
      "application/vnd.jupyter.widget-view+json": {
       "model_id": "1138b847140347c7bf9e5606700bf1bd",
       "version_major": 2,
       "version_minor": 0
      },
      "text/plain": [
       "VBox()"
      ]
     },
     "metadata": {},
     "output_type": "display_data"
    },
    {
     "data": {
      "application/vnd.jupyter.widget-view+json": {
       "model_id": "",
       "version_major": 2,
       "version_minor": 0
      },
      "text/plain": [
       "FloatProgress(value=0.0, bar_style='info', description='Progress:', layout=Layout(height='25px', width='50%'),…"
      ]
     },
     "metadata": {},
     "output_type": "display_data"
    }
   ],
   "source": [
    "# Renaming the column names of the dataframe for analysis\n",
    "Training_DF = Training_DF.withColumnRenamed('_c0','MovieID').withColumnRenamed('_c1','UserID').withColumnRenamed('_c2','Rating')\n",
    "Testing_DF = Testing_DF.withColumnRenamed('_c0','MovieID').withColumnRenamed('_c1','UserID').withColumnRenamed('_c2','Rating')"
   ]
  },
  {
   "cell_type": "code",
   "execution_count": 115,
   "metadata": {},
   "outputs": [
    {
     "data": {
      "application/vnd.jupyter.widget-view+json": {
       "model_id": "b6f69574cee945b3a9a5b474c94a4eb5",
       "version_major": 2,
       "version_minor": 0
      },
      "text/plain": [
       "VBox()"
      ]
     },
     "metadata": {},
     "output_type": "display_data"
    },
    {
     "data": {
      "application/vnd.jupyter.widget-view+json": {
       "model_id": "",
       "version_major": 2,
       "version_minor": 0
      },
      "text/plain": [
       "FloatProgress(value=0.0, bar_style='info', description='Progress:', layout=Layout(height='25px', width='50%'),…"
      ]
     },
     "metadata": {},
     "output_type": "display_data"
    },
    {
     "name": "stdout",
     "output_type": "stream",
     "text": [
      "+-------+------+-----+\n",
      "|MovieID|UserID|Count|\n",
      "+-------+------+-----+\n",
      "+-------+------+-----+"
     ]
    }
   ],
   "source": [
    "# Checking the level of data for Training Data - if the user has rated a movie more than one time -- NO\n",
    "(Training_DF.groupBy('MovieID','UserID').agg(F.countDistinct(\"Rating\").alias(\"Count\")).filter(F.col('Count')>1).show())"
   ]
  },
  {
   "cell_type": "code",
   "execution_count": 116,
   "metadata": {},
   "outputs": [
    {
     "data": {
      "application/vnd.jupyter.widget-view+json": {
       "model_id": "f69223b9928c4ffab106550643266f71",
       "version_major": 2,
       "version_minor": 0
      },
      "text/plain": [
       "VBox()"
      ]
     },
     "metadata": {},
     "output_type": "display_data"
    },
    {
     "data": {
      "application/vnd.jupyter.widget-view+json": {
       "model_id": "",
       "version_major": 2,
       "version_minor": 0
      },
      "text/plain": [
       "FloatProgress(value=0.0, bar_style='info', description='Progress:', layout=Layout(height='25px', width='50%'),…"
      ]
     },
     "metadata": {},
     "output_type": "display_data"
    }
   ],
   "source": [
    "# Joining the Training dataset and the movies description dataset together\n",
    "Rating_Test = Training_DF.join(Movies_DF,[\"MovieID\"],'left')"
   ]
  },
  {
   "cell_type": "code",
   "execution_count": 117,
   "metadata": {},
   "outputs": [
    {
     "data": {
      "application/vnd.jupyter.widget-view+json": {
       "model_id": "1a962a6b35b04bda85075d52b36882ab",
       "version_major": 2,
       "version_minor": 0
      },
      "text/plain": [
       "VBox()"
      ]
     },
     "metadata": {},
     "output_type": "display_data"
    },
    {
     "data": {
      "application/vnd.jupyter.widget-view+json": {
       "model_id": "",
       "version_major": 2,
       "version_minor": 0
      },
      "text/plain": [
       "FloatProgress(value=0.0, bar_style='info', description='Progress:', layout=Layout(height='25px', width='50%'),…"
      ]
     },
     "metadata": {},
     "output_type": "display_data"
    },
    {
     "name": "stdout",
     "output_type": "stream",
     "text": [
      "+-------+-------+------+----+--------------------+\n",
      "|MovieID| UserID|Rating| YOR|          Movie_Desc|\n",
      "+-------+-------+------+----+--------------------+\n",
      "|      8|1744889|   1.0|2004|What the #$*! Do ...|\n",
      "|      8|1395430|   2.0|2004|What the #$*! Do ...|\n",
      "|      8|1205593|   4.0|2004|What the #$*! Do ...|\n",
      "|      8|1488844|   4.0|2004|What the #$*! Do ...|\n",
      "|      8|1447354|   1.0|2004|What the #$*! Do ...|\n",
      "|      8| 306466|   4.0|2004|What the #$*! Do ...|\n",
      "|      8|1331154|   4.0|2004|What the #$*! Do ...|\n",
      "|      8|1818178|   3.0|2004|What the #$*! Do ...|\n",
      "|      8| 991725|   4.0|2004|What the #$*! Do ...|\n",
      "|      8|1987434|   4.0|2004|What the #$*! Do ...|\n",
      "|      8|1765381|   4.0|2004|What the #$*! Do ...|\n",
      "|      8| 433803|   3.0|2004|What the #$*! Do ...|\n",
      "|      8|1148143|   2.0|2004|What the #$*! Do ...|\n",
      "|      8|1174811|   5.0|2004|What the #$*! Do ...|\n",
      "|      8|1684516|   3.0|2004|What the #$*! Do ...|\n",
      "|      8| 754781|   4.0|2004|What the #$*! Do ...|\n",
      "|      8| 567025|   4.0|2004|What the #$*! Do ...|\n",
      "|      8|1623132|   4.0|2004|What the #$*! Do ...|\n",
      "|      8|1567095|   3.0|2004|What the #$*! Do ...|\n",
      "|      8|1666394|   5.0|2004|What the #$*! Do ...|\n",
      "+-------+-------+------+----+--------------------+\n",
      "only showing top 20 rows"
     ]
    }
   ],
   "source": [
    "Rating_Test.show()"
   ]
  },
  {
   "cell_type": "code",
   "execution_count": 118,
   "metadata": {},
   "outputs": [
    {
     "data": {
      "application/vnd.jupyter.widget-view+json": {
       "model_id": "8109a004aeee425ea0bf63179d161186",
       "version_major": 2,
       "version_minor": 0
      },
      "text/plain": [
       "VBox()"
      ]
     },
     "metadata": {},
     "output_type": "display_data"
    },
    {
     "data": {
      "application/vnd.jupyter.widget-view+json": {
       "model_id": "",
       "version_major": 2,
       "version_minor": 0
      },
      "text/plain": [
       "FloatProgress(value=0.0, bar_style='info', description='Progress:', layout=Layout(height='25px', width='50%'),…"
      ]
     },
     "metadata": {},
     "output_type": "display_data"
    }
   ],
   "source": [
    "# Checking the list of top five rated movies over last three years\n",
    "Latest_Year = Rating_Test.withColumn(\"YOR\", Rating_Test[\"YOR\"].cast(\"integer\")).agg({\"YOR\":\"max\"}).collect()[0][0]"
   ]
  },
  {
   "cell_type": "code",
   "execution_count": 119,
   "metadata": {},
   "outputs": [
    {
     "data": {
      "application/vnd.jupyter.widget-view+json": {
       "model_id": "d4c34c1bf5ee4b62ad725301b8994456",
       "version_major": 2,
       "version_minor": 0
      },
      "text/plain": [
       "VBox()"
      ]
     },
     "metadata": {},
     "output_type": "display_data"
    },
    {
     "data": {
      "application/vnd.jupyter.widget-view+json": {
       "model_id": "",
       "version_major": 2,
       "version_minor": 0
      },
      "text/plain": [
       "FloatProgress(value=0.0, bar_style='info', description='Progress:', layout=Layout(height='25px', width='50%'),…"
      ]
     },
     "metadata": {},
     "output_type": "display_data"
    },
    {
     "name": "stdout",
     "output_type": "stream",
     "text": [
      "2005"
     ]
    }
   ],
   "source": [
    "Latest_Year"
   ]
  },
  {
   "cell_type": "code",
   "execution_count": 120,
   "metadata": {},
   "outputs": [
    {
     "data": {
      "application/vnd.jupyter.widget-view+json": {
       "model_id": "da4e10761c0546908641a8ee030b01ad",
       "version_major": 2,
       "version_minor": 0
      },
      "text/plain": [
       "VBox()"
      ]
     },
     "metadata": {},
     "output_type": "display_data"
    },
    {
     "data": {
      "application/vnd.jupyter.widget-view+json": {
       "model_id": "",
       "version_major": 2,
       "version_minor": 0
      },
      "text/plain": [
       "FloatProgress(value=0.0, bar_style='info', description='Progress:', layout=Layout(height='25px', width='50%'),…"
      ]
     },
     "metadata": {},
     "output_type": "display_data"
    },
    {
     "name": "stdout",
     "output_type": "stream",
     "text": [
      "+----+----------+\n",
      "| YOR|# of Users|\n",
      "+----+----------+\n",
      "|2005|     20736|\n",
      "|2004|     28464|\n",
      "|2003|     28893|\n",
      "|2002|     28809|\n",
      "|2001|     28422|\n",
      "|2000|     28425|\n",
      "|1999|     28767|\n",
      "|1998|     28733|\n",
      "|1997|     28767|\n",
      "|1996|     28418|\n",
      "|1995|     28698|\n",
      "|1994|     24676|\n",
      "|1993|     26891|\n",
      "|1992|     27266|\n",
      "|1991|     28622|\n",
      "|1990|     27896|\n",
      "|1989|     27488|\n",
      "|1988|     28474|\n",
      "|1987|     28707|\n",
      "|1986|     28180|\n",
      "+----+----------+\n",
      "only showing top 20 rows"
     ]
    }
   ],
   "source": [
    "# Checking the Number of Distinct Users who are rating movies on Netflix Each Year\n",
    "Rating_Test.groupBy(\"YOR\").agg(F.countDistinct(\"UserID\").alias(\"# of Users\")).orderBy(\"YOR\",ascending = False).show()"
   ]
  },
  {
   "cell_type": "code",
   "execution_count": 121,
   "metadata": {},
   "outputs": [
    {
     "data": {
      "application/vnd.jupyter.widget-view+json": {
       "model_id": "811a5cbabea444c2bdb7d67b6d05b1ed",
       "version_major": 2,
       "version_minor": 0
      },
      "text/plain": [
       "VBox()"
      ]
     },
     "metadata": {},
     "output_type": "display_data"
    },
    {
     "data": {
      "application/vnd.jupyter.widget-view+json": {
       "model_id": "",
       "version_major": 2,
       "version_minor": 0
      },
      "text/plain": [
       "FloatProgress(value=0.0, bar_style='info', description='Progress:', layout=Layout(height='25px', width='50%'),…"
      ]
     },
     "metadata": {},
     "output_type": "display_data"
    }
   ],
   "source": [
    "# Each Year, Movie average Rating extraction\n",
    "Rating_Composition = Rating_Test.groupBy(\"YOR\",\"MovieID\").agg({\"Rating\":\"Average\"})\\\n",
    "                                .withColumnRenamed(\"avg(Rating)\",\"Rating(Avg)\")\\\n",
    "                                .withColumn(\"Rating(Avg)\",F.round(F.col(\"Rating(Avg)\"),2))\\\n",
    "                                .orderBy(\"YOR\", ascending=False)"
   ]
  },
  {
   "cell_type": "code",
   "execution_count": 122,
   "metadata": {},
   "outputs": [
    {
     "data": {
      "application/vnd.jupyter.widget-view+json": {
       "model_id": "f94af48be72346d5a096396dec630db6",
       "version_major": 2,
       "version_minor": 0
      },
      "text/plain": [
       "VBox()"
      ]
     },
     "metadata": {},
     "output_type": "display_data"
    },
    {
     "data": {
      "application/vnd.jupyter.widget-view+json": {
       "model_id": "",
       "version_major": 2,
       "version_minor": 0
      },
      "text/plain": [
       "FloatProgress(value=0.0, bar_style='info', description='Progress:', layout=Layout(height='25px', width='50%'),…"
      ]
     },
     "metadata": {},
     "output_type": "display_data"
    }
   ],
   "source": [
    "# Ranking the Year wise best Rated movies for the LAST Three Years and Top 5 Ranks\n",
    "RR = Rating_Composition.withColumn(\"Rank\", dense_rank().over(Window.partitionBy(\"YOR\").orderBy(desc(\"Rating(Avg)\")))).filter((F.col(\"YOR\")>Latest_Year-3) & (F.col(\"Rank\")<=5))"
   ]
  },
  {
   "cell_type": "code",
   "execution_count": 123,
   "metadata": {},
   "outputs": [
    {
     "data": {
      "application/vnd.jupyter.widget-view+json": {
       "model_id": "5ad1a9ddcc5d446da6ada5adf7171d34",
       "version_major": 2,
       "version_minor": 0
      },
      "text/plain": [
       "VBox()"
      ]
     },
     "metadata": {},
     "output_type": "display_data"
    },
    {
     "data": {
      "application/vnd.jupyter.widget-view+json": {
       "model_id": "",
       "version_major": 2,
       "version_minor": 0
      },
      "text/plain": [
       "FloatProgress(value=0.0, bar_style='info', description='Progress:', layout=Layout(height='25px', width='50%'),…"
      ]
     },
     "metadata": {},
     "output_type": "display_data"
    }
   ],
   "source": [
    "# Extracting the Movies Description against MovieID's by joining with dataset\n",
    "TOP_5_LAST_3_YOR = RR.join(Movies_DF,['MovieID'],\"left\").select(RR[\"*\"],Movies_DF[\"Movie_Desc\"])"
   ]
  },
  {
   "cell_type": "code",
   "execution_count": 124,
   "metadata": {},
   "outputs": [
    {
     "data": {
      "application/vnd.jupyter.widget-view+json": {
       "model_id": "84f1b8a7449f4ee784cf395b2df46d21",
       "version_major": 2,
       "version_minor": 0
      },
      "text/plain": [
       "VBox()"
      ]
     },
     "metadata": {},
     "output_type": "display_data"
    },
    {
     "data": {
      "application/vnd.jupyter.widget-view+json": {
       "model_id": "",
       "version_major": 2,
       "version_minor": 0
      },
      "text/plain": [
       "FloatProgress(value=0.0, bar_style='info', description='Progress:', layout=Layout(height='25px', width='50%'),…"
      ]
     },
     "metadata": {},
     "output_type": "display_data"
    },
    {
     "name": "stdout",
     "output_type": "stream",
     "text": [
      "+----+-------+-----------+----+--------------------+\n",
      "| YOR|MovieID|Rating(Avg)|Rank|          Movie_Desc|\n",
      "+----+-------+-----------+----+--------------------+\n",
      "|2005|   3033|        4.5|   1|Ghost in the Shel...|\n",
      "|2005|  10757|       3.95|   2|Justice League Un...|\n",
      "|2005|  17324|       3.84|   3|               Hitch|\n",
      "|2005|  12952|        3.8|   4|The God Who Wasn'...|\n",
      "|2005|  16784|       3.78|   5|The Sisterhood of...|\n",
      "|2004|   7569|       4.38|   1|Dead Like Me: Sea...|\n",
      "|2004|  10947|       4.34|   2|     The Incredibles|\n",
      "|2004|   3928|       4.23|   3|  Nip/Tuck: Season 2|\n",
      "|2004|   7445|        4.2|   4|      Monk: Season 3|\n",
      "|2004|  11812|       4.15|   5| Million Dollar Baby|\n",
      "|2003|  14648|       4.35|   1|Finding Nemo (Ful...|\n",
      "|2003|   5700|       4.18|   2|Law & Order: Seas...|\n",
      "|2003|    359|       4.08|   3|Absolutely Fabulo...|\n",
      "|2003|  16022|       4.07|   4|Battlestar Galact...|\n",
      "|2003|    722|       4.04|   5|  The Wire: Season 1|\n",
      "+----+-------+-----------+----+--------------------+"
     ]
    }
   ],
   "source": [
    "TOP_5_LAST_3_YOR.show(50)"
   ]
  },
  {
   "cell_type": "code",
   "execution_count": 125,
   "metadata": {},
   "outputs": [
    {
     "data": {
      "application/vnd.jupyter.widget-view+json": {
       "model_id": "ae0162f50fef43508d2264a56ffc37be",
       "version_major": 2,
       "version_minor": 0
      },
      "text/plain": [
       "VBox()"
      ]
     },
     "metadata": {},
     "output_type": "display_data"
    },
    {
     "data": {
      "application/vnd.jupyter.widget-view+json": {
       "model_id": "",
       "version_major": 2,
       "version_minor": 0
      },
      "text/plain": [
       "FloatProgress(value=0.0, bar_style='info', description='Progress:', layout=Layout(height='25px', width='50%'),…"
      ]
     },
     "metadata": {},
     "output_type": "display_data"
    },
    {
     "name": "stdout",
     "output_type": "stream",
     "text": [
      "+-------+-------+------+\n",
      "|MovieID| UserID|Rating|\n",
      "+-------+-------+------+\n",
      "|      8|1744889|   1.0|\n",
      "|      8|1395430|   2.0|\n",
      "|      8|1205593|   4.0|\n",
      "|      8|1488844|   4.0|\n",
      "|      8|1447354|   1.0|\n",
      "|      8| 306466|   4.0|\n",
      "|      8|1331154|   4.0|\n",
      "|      8|1818178|   3.0|\n",
      "|      8| 991725|   4.0|\n",
      "|      8|1987434|   4.0|\n",
      "|      8|1765381|   4.0|\n",
      "|      8| 433803|   3.0|\n",
      "|      8|1148143|   2.0|\n",
      "|      8|1174811|   5.0|\n",
      "|      8|1684516|   3.0|\n",
      "|      8| 754781|   4.0|\n",
      "|      8| 567025|   4.0|\n",
      "|      8|1623132|   4.0|\n",
      "|      8|1567095|   3.0|\n",
      "|      8|1666394|   5.0|\n",
      "+-------+-------+------+\n",
      "only showing top 20 rows"
     ]
    }
   ],
   "source": [
    "Training_DF.show()"
   ]
  },
  {
   "cell_type": "code",
   "execution_count": 126,
   "metadata": {},
   "outputs": [
    {
     "data": {
      "application/vnd.jupyter.widget-view+json": {
       "model_id": "b848b70fa66a4e1eb9c29a66cd155666",
       "version_major": 2,
       "version_minor": 0
      },
      "text/plain": [
       "VBox()"
      ]
     },
     "metadata": {},
     "output_type": "display_data"
    },
    {
     "data": {
      "application/vnd.jupyter.widget-view+json": {
       "model_id": "",
       "version_major": 2,
       "version_minor": 0
      },
      "text/plain": [
       "FloatProgress(value=0.0, bar_style='info', description='Progress:', layout=Layout(height='25px', width='50%'),…"
      ]
     },
     "metadata": {},
     "output_type": "display_data"
    }
   ],
   "source": [
    "# Creating New Column for Star Rating\n",
    "Rating_Composition = Rating_Composition.withColumn(\"Star Rating\",F.when(F.col(\"Rating(Avg)\")>4,F.lit(\"5 Star Rating\")).otherwise(F.when((F.col(\"Rating(Avg)\")<=4) & (F.col(\"Rating(Avg)\")>3),F.lit(\"4 Star Rating\")).otherwise(F.when((F.col(\"Rating(Avg)\")<=3) & (F.col(\"Rating(Avg)\")>2),F.lit(\"3 Star Rating\")).otherwise(F.when((F.col(\"Rating(Avg)\")<=2) & (F.col(\"Rating(Avg)\")>1),F.lit(\"2 Star Rating\")).otherwise(F.lit(\"1 star Rating\"))))))"
   ]
  },
  {
   "cell_type": "code",
   "execution_count": 127,
   "metadata": {},
   "outputs": [
    {
     "data": {
      "application/vnd.jupyter.widget-view+json": {
       "model_id": "204d8eb0502a430baace5edd5c3ffb6f",
       "version_major": 2,
       "version_minor": 0
      },
      "text/plain": [
       "VBox()"
      ]
     },
     "metadata": {},
     "output_type": "display_data"
    },
    {
     "data": {
      "application/vnd.jupyter.widget-view+json": {
       "model_id": "",
       "version_major": 2,
       "version_minor": 0
      },
      "text/plain": [
       "FloatProgress(value=0.0, bar_style='info', description='Progress:', layout=Layout(height='25px', width='50%'),…"
      ]
     },
     "metadata": {},
     "output_type": "display_data"
    },
    {
     "name": "stdout",
     "output_type": "stream",
     "text": [
      "<matplotlib.legend.Legend object at 0x7fb270eae390>"
     ]
    }
   ],
   "source": [
    "# Creating the Pie Chart for the STAR RATING Distribution of Movies\n",
    "ratings_dist = Rating_Composition.groupBy('Star Rating').count().orderBy('count').toPandas()\n",
    "\n",
    "plt.clf()\n",
    "labels = [f\"Star Rating: {rating}\" for rating in ratings_dist['Star Rating']]\n",
    "reviews = [num_reviews for num_reviews in ratings_dist['count']]\n",
    "colors = ['#00876c', '#89c079', '#fff392', '#fc9e5a', '#de425b']\n",
    "fig, ax = plt.subplots(figsize=(8,5))\n",
    "w,a,b = ax.pie(reviews, autopct='%1.1f%%', colors=colors)\n",
    "plt.title('Distribution of star ratings for Movies')\n",
    "ax.legend(w, labels, title=\"Star Ratings\", loc=\"center left\", bbox_to_anchor=(1, 0, 0.5, 1))"
   ]
  },
  {
   "cell_type": "code",
   "execution_count": 128,
   "metadata": {},
   "outputs": [
    {
     "data": {
      "application/vnd.jupyter.widget-view+json": {
       "model_id": "",
       "version_major": 2,
       "version_minor": 0
      },
      "text/plain": [
       "FloatProgress(value=0.0, bar_style='info', description='Progress:', layout=Layout(height='25px', width='50%'),…"
      ]
     },
     "metadata": {},
     "output_type": "display_data"
    },
    {
     "data": {
      "image/png": "[encoded data removed]",
      "text/plain": [
       "<IPython.core.display.Image object>"
      ]
     },
     "metadata": {},
     "output_type": "display_data"
    }
   ],
   "source": [
    "%matplot plt"
   ]
  },
  {
   "cell_type": "code",
   "execution_count": 129,
   "metadata": {},
   "outputs": [
    {
     "data": {
      "application/vnd.jupyter.widget-view+json": {
       "model_id": "a87b06d4cd73435f87bb3a49d56b8af0",
       "version_major": 2,
       "version_minor": 0
      },
      "text/plain": [
       "VBox()"
      ]
     },
     "metadata": {},
     "output_type": "display_data"
    },
    {
     "data": {
      "application/vnd.jupyter.widget-view+json": {
       "model_id": "",
       "version_major": 2,
       "version_minor": 0
      },
      "text/plain": [
       "FloatProgress(value=0.0, bar_style='info', description='Progress:', layout=Layout(height='25px', width='50%'),…"
      ]
     },
     "metadata": {},
     "output_type": "display_data"
    },
    {
     "name": "stdout",
     "output_type": "stream",
     "text": [
      "+-------+-------+------+\n",
      "|MovieID| UserID|Rating|\n",
      "+-------+-------+------+\n",
      "|      8|1744889|   1.0|\n",
      "|      8|1395430|   2.0|\n",
      "|      8|1205593|   4.0|\n",
      "|      8|1488844|   4.0|\n",
      "|      8|1447354|   1.0|\n",
      "|      8| 306466|   4.0|\n",
      "|      8|1331154|   4.0|\n",
      "|      8|1818178|   3.0|\n",
      "|      8| 991725|   4.0|\n",
      "|      8|1987434|   4.0|\n",
      "|      8|1765381|   4.0|\n",
      "|      8| 433803|   3.0|\n",
      "|      8|1148143|   2.0|\n",
      "|      8|1174811|   5.0|\n",
      "|      8|1684516|   3.0|\n",
      "|      8| 754781|   4.0|\n",
      "|      8| 567025|   4.0|\n",
      "|      8|1623132|   4.0|\n",
      "|      8|1567095|   3.0|\n",
      "|      8|1666394|   5.0|\n",
      "+-------+-------+------+\n",
      "only showing top 20 rows"
     ]
    }
   ],
   "source": [
    "Training_DF.show()"
   ]
  },
  {
   "cell_type": "code",
   "execution_count": 130,
   "metadata": {},
   "outputs": [
    {
     "data": {
      "application/vnd.jupyter.widget-view+json": {
       "model_id": "326693a168f747af9d587cd3410493b5",
       "version_major": 2,
       "version_minor": 0
      },
      "text/plain": [
       "VBox()"
      ]
     },
     "metadata": {},
     "output_type": "display_data"
    },
    {
     "data": {
      "application/vnd.jupyter.widget-view+json": {
       "model_id": "",
       "version_major": 2,
       "version_minor": 0
      },
      "text/plain": [
       "FloatProgress(value=0.0, bar_style='info', description='Progress:', layout=Layout(height='25px', width='50%'),…"
      ]
     },
     "metadata": {},
     "output_type": "display_data"
    }
   ],
   "source": [
    "# For Choosing the Top list of Users based on the Movie Rating count\n",
    "# Also filtering for the users whose average rating is greater than 2.5 since that mean they are credible at rating \n",
    "User_Rating_DF = Training_DF.groupBy(\"UserID\").agg({\"MovieID\":\"count\",\"Rating\":\"average\"}).orderBy(\"count(MovieID)\",ascending=False).filter(F.col(\"avg(Rating)\")>2.5)\n",
    "\n",
    "# Filtering for selecting the Users who have rated atleast 500 movies and avg rating given is more than 3\n",
    "User_Rating_DF = User_Rating_DF.filter((F.col(\"count(MovieID)\")>500) & (F.col(\"avg(Rating)\")>3))\n",
    "\n",
    "# Extracted list of Top UserId\n",
    "Users_List = User_Rating_DF.select(\"UserID\").rdd.flatMap(lambda x: x).collect()"
   ]
  },
  {
   "cell_type": "code",
   "execution_count": 131,
   "metadata": {},
   "outputs": [
    {
     "data": {
      "application/vnd.jupyter.widget-view+json": {
       "model_id": "d1d6298d33784e5b92574fcd43f04cdf",
       "version_major": 2,
       "version_minor": 0
      },
      "text/plain": [
       "VBox()"
      ]
     },
     "metadata": {},
     "output_type": "display_data"
    },
    {
     "data": {
      "application/vnd.jupyter.widget-view+json": {
       "model_id": "",
       "version_major": 2,
       "version_minor": 0
      },
      "text/plain": [
       "FloatProgress(value=0.0, bar_style='info', description='Progress:', layout=Layout(height='25px', width='50%'),…"
      ]
     },
     "metadata": {},
     "output_type": "display_data"
    },
    {
     "name": "stdout",
     "output_type": "stream",
     "text": [
      "+-------+--------------+------------------+\n",
      "| UserID|count(MovieID)|       avg(Rating)|\n",
      "+-------+--------------+------------------+\n",
      "|1664010|          1535|4.2384364820846905|\n",
      "|2118461|          1481| 4.088453747467927|\n",
      "|1114324|           876|3.0079908675799087|\n",
      "|1473980|           680|3.0808823529411766|\n",
      "| 716173|           675|4.3822222222222225|\n",
      "|1663888|           669| 3.478325859491779|\n",
      "| 303948|           621|3.8003220611916264|\n",
      "|1710658|           591|3.0761421319796955|\n",
      "|1061195|           572|3.1223776223776225|\n",
      "|2238060|           570| 4.101754385964912|\n",
      "|1299887|           565|3.5805309734513275|\n",
      "| 322009|           562| 3.311387900355872|\n",
      "|1037245|           542|3.4649446494464944|\n",
      "|2237185|           524|3.2938931297709924|\n",
      "| 682963|           520|              3.25|\n",
      "| 794999|           514| 4.996108949416342|\n",
      "|1784150|           502| 3.254980079681275|\n",
      "+-------+--------------+------------------+"
     ]
    }
   ],
   "source": [
    "User_Rating_DF.show()"
   ]
  },
  {
   "cell_type": "code",
   "execution_count": 132,
   "metadata": {},
   "outputs": [
    {
     "data": {
      "application/vnd.jupyter.widget-view+json": {
       "model_id": "32a682bb8068435780421103a90daf86",
       "version_major": 2,
       "version_minor": 0
      },
      "text/plain": [
       "VBox()"
      ]
     },
     "metadata": {},
     "output_type": "display_data"
    },
    {
     "data": {
      "application/vnd.jupyter.widget-view+json": {
       "model_id": "",
       "version_major": 2,
       "version_minor": 0
      },
      "text/plain": [
       "FloatProgress(value=0.0, bar_style='info', description='Progress:', layout=Layout(height='25px', width='50%'),…"
      ]
     },
     "metadata": {},
     "output_type": "display_data"
    }
   ],
   "source": [
    "# For Choosing the Top list of Movies based on the User Rating count\n",
    "Movie_Rating_DF = Training_DF.groupBy(\"MovieID\").agg({\"UserID\":\"count\",\"Rating\":\"average\"}).orderBy(\"count(UserID)\",ascending=False).filter(F.col(\"avg(Rating)\")>2.5)\n",
    "\n",
    "# Filtering only the movies which have atleast 20000 user rating or more and Average Rating greater than 3.5\n",
    "Movie_Rating_DF = Movie_Rating_DF.filter((F.col(\"count(UserID)\")>20000) & (F.col(\"avg(Rating)\")>3.5))\n",
    "\n",
    "Movie_Rating_Desc_DF = Movie_Rating_DF.join(Movies_DF,[\"MovieID\"],\"left\").select(Movie_Rating_DF[\"*\"],Movies_DF[\"Movie_Desc\"])\n",
    "\n",
    "\n",
    "# Extract movie list \n",
    "Movies_list = Movie_Rating_DF.select(\"MovieID\").rdd.flatMap(lambda x: x).collect()"
   ]
  },
  {
   "cell_type": "code",
   "execution_count": 133,
   "metadata": {},
   "outputs": [
    {
     "data": {
      "application/vnd.jupyter.widget-view+json": {
       "model_id": "ce58e7275fda482dadf029c17ee65a05",
       "version_major": 2,
       "version_minor": 0
      },
      "text/plain": [
       "VBox()"
      ]
     },
     "metadata": {},
     "output_type": "display_data"
    },
    {
     "data": {
      "application/vnd.jupyter.widget-view+json": {
       "model_id": "",
       "version_major": 2,
       "version_minor": 0
      },
      "text/plain": [
       "FloatProgress(value=0.0, bar_style='info', description='Progress:', layout=Layout(height='25px', width='50%'),…"
      ]
     },
     "metadata": {},
     "output_type": "display_data"
    },
    {
     "name": "stdout",
     "output_type": "stream",
     "text": [
      "+-------+-------------+------------------+--------------------+\n",
      "|MovieID|count(UserID)|       avg(Rating)|          Movie_Desc|\n",
      "+-------+-------------+------------------+--------------------+\n",
      "|   6971|        25468| 4.071815611748076|Ferris Bueller's ...|\n",
      "|   6287|        24393|3.7261099495756977|        Pretty Woman|\n",
      "|   4640|        23525| 4.047438894792774|            Rain Man|\n",
      "|   9728|        23184|3.8246204278812974|  As Good as It Gets|\n",
      "|   8596|        23005| 4.103368832862421|               Seven|\n",
      "|   4432|        22565|3.6721471305118545|     The Italian Job|\n",
      "|  10947|        21209| 4.339148474704135|     The Incredibles|\n",
      "|   6408|        21198|3.8013020096235492|        Good Morning|\n",
      "|   1202|        20997| 3.757298661713578|National Lampoon'...|\n",
      "|  13651|        20902|3.5951105157401204|       Air Force One|\n",
      "|  12293|        20691| 4.464598134454594|       The Godfather|\n",
      "|   8915|        20646|3.9663373050469826|Terminator 2: Ext...|\n",
      "|   2660|        20153|3.9168362030466928|When Harry Met Sally|\n",
      "|   1744|        20140| 3.802730883813307|   Beverly Hills Cop|\n",
      "+-------+-------------+------------------+--------------------+"
     ]
    }
   ],
   "source": [
    "Movie_Rating_Desc_DF.show()"
   ]
  },
  {
   "cell_type": "code",
   "execution_count": 134,
   "metadata": {},
   "outputs": [
    {
     "data": {
      "application/vnd.jupyter.widget-view+json": {
       "model_id": "51a41553d7cc4561988aec2006efd3c2",
       "version_major": 2,
       "version_minor": 0
      },
      "text/plain": [
       "VBox()"
      ]
     },
     "metadata": {},
     "output_type": "display_data"
    },
    {
     "data": {
      "application/vnd.jupyter.widget-view+json": {
       "model_id": "",
       "version_major": 2,
       "version_minor": 0
      },
      "text/plain": [
       "FloatProgress(value=0.0, bar_style='info', description='Progress:', layout=Layout(height='25px', width='50%'),…"
      ]
     },
     "metadata": {},
     "output_type": "display_data"
    },
    {
     "name": "stdout",
     "output_type": "stream",
     "text": [
      "['6971', '6287', '4640', '9728', '8596', '4432', '10947', '6408', '1202', '13651', '12293', '8915', '2660', '1744']"
     ]
    }
   ],
   "source": [
    "print(Movies_list)"
   ]
  },
  {
   "cell_type": "code",
   "execution_count": 135,
   "metadata": {},
   "outputs": [
    {
     "data": {
      "application/vnd.jupyter.widget-view+json": {
       "model_id": "380897b31ede40fba291c87f52394731",
       "version_major": 2,
       "version_minor": 0
      },
      "text/plain": [
       "VBox()"
      ]
     },
     "metadata": {},
     "output_type": "display_data"
    },
    {
     "data": {
      "application/vnd.jupyter.widget-view+json": {
       "model_id": "",
       "version_major": 2,
       "version_minor": 0
      },
      "text/plain": [
       "FloatProgress(value=0.0, bar_style='info', description='Progress:', layout=Layout(height='25px', width='50%'),…"
      ]
     },
     "metadata": {},
     "output_type": "display_data"
    },
    {
     "name": "stdout",
     "output_type": "stream",
     "text": [
      "['1664010', '2118461', '1114324', '1473980', '716173', '1663888', '303948', '1710658', '1061195', '2238060', '1299887', '322009', '1037245', '2237185', '682963', '794999', '1784150']"
     ]
    }
   ],
   "source": [
    "print(Users_List)"
   ]
  },
  {
   "cell_type": "markdown",
   "metadata": {},
   "source": [
    "## Modeling"
   ]
  },
  {
   "cell_type": "code",
   "execution_count": 38,
   "metadata": {},
   "outputs": [
    {
     "data": {
      "application/vnd.jupyter.widget-view+json": {
       "model_id": "7a8e85fb5bdd47c3a23cbe59259fce6d",
       "version_major": 2,
       "version_minor": 0
      },
      "text/plain": [
       "VBox()"
      ]
     },
     "metadata": {},
     "output_type": "display_data"
    },
    {
     "data": {
      "application/vnd.jupyter.widget-view+json": {
       "model_id": "",
       "version_major": 2,
       "version_minor": 0
      },
      "text/plain": [
       "FloatProgress(value=0.0, bar_style='info', description='Progress:', layout=Layout(height='25px', width='50%'),…"
      ]
     },
     "metadata": {},
     "output_type": "display_data"
    }
   ],
   "source": [
    "# Converting the model to pandas\n",
    "Training_DF = Training_DF.toPandas()\n",
    "Testing_DF = Testing_DF.toPandas()"
   ]
  },
  {
   "cell_type": "code",
   "execution_count": 32,
   "metadata": {},
   "outputs": [
    {
     "data": {
      "application/vnd.jupyter.widget-view+json": {
       "model_id": "9a168f5e3ae84091b9db52d0a1625e1e",
       "version_major": 2,
       "version_minor": 0
      },
      "text/plain": [
       "VBox()"
      ]
     },
     "metadata": {},
     "output_type": "display_data"
    },
    {
     "data": {
      "application/vnd.jupyter.widget-view+json": {
       "model_id": "",
       "version_major": 2,
       "version_minor": 0
      },
      "text/plain": [
       "FloatProgress(value=0.0, bar_style='info', description='Progress:', layout=Layout(height='25px', width='50%'),…"
      ]
     },
     "metadata": {},
     "output_type": "display_data"
    },
    {
     "name": "stdout",
     "output_type": "stream",
     "text": [
      "Number of NaN values = MovieID    0\n",
      "UserID     0\n",
      "Rating     0\n",
      "dtype: int64"
     ]
    }
   ],
   "source": [
    "# NULL VALUES CHECK\n",
    "print(\"Number of NaN values = \"+str(Training_DF.isnull().sum()))"
   ]
  },
  {
   "cell_type": "code",
   "execution_count": 33,
   "metadata": {},
   "outputs": [
    {
     "data": {
      "application/vnd.jupyter.widget-view+json": {
       "model_id": "e6e0917b2dfa4fe2857438f125ab5514",
       "version_major": 2,
       "version_minor": 0
      },
      "text/plain": [
       "VBox()"
      ]
     },
     "metadata": {},
     "output_type": "display_data"
    },
    {
     "data": {
      "application/vnd.jupyter.widget-view+json": {
       "model_id": "",
       "version_major": 2,
       "version_minor": 0
      },
      "text/plain": [
       "FloatProgress(value=0.0, bar_style='info', description='Progress:', layout=Layout(height='25px', width='50%'),…"
      ]
     },
     "metadata": {},
     "output_type": "display_data"
    },
    {
     "name": "stdout",
     "output_type": "stream",
     "text": [
      "Total Data:\n",
      "Total number of movie ratings = 3255352\n",
      "Number of unique users = 28978\n",
      "Number of unique movies = 1821"
     ]
    }
   ],
   "source": [
    "print(\"Total Data:\")\n",
    "print(\"Total number of movie ratings = \"+str(Training_DF.shape[0]))\n",
    "print(\"Number of unique users = \"+str(len(np.unique(Training_DF[\"UserID\"]))))\n",
    "print(\"Number of unique movies = \"+str(len(np.unique(Training_DF[\"MovieID\"]))))"
   ]
  },
  {
   "cell_type": "code",
   "execution_count": 103,
   "metadata": {},
   "outputs": [
    {
     "data": {
      "application/vnd.jupyter.widget-view+json": {
       "model_id": "f83ca0ff529c49e9bacdfd0416b08ff4",
       "version_major": 2,
       "version_minor": 0
      },
      "text/plain": [
       "VBox()"
      ]
     },
     "metadata": {},
     "output_type": "display_data"
    },
    {
     "data": {
      "application/vnd.jupyter.widget-view+json": {
       "model_id": "",
       "version_major": 2,
       "version_minor": 0
      },
      "text/plain": [
       "FloatProgress(value=0.0, bar_style='info', description='Progress:', layout=Layout(height='25px', width='50%'),…"
      ]
     },
     "metadata": {},
     "output_type": "display_data"
    }
   ],
   "source": [
    "from scipy.sparse import csr_matrix\n",
    "import matplotlib.pyplot as plt\n",
    "from surprise import Reader, Dataset, SVD"
   ]
  },
  {
   "cell_type": "code",
   "execution_count": 104,
   "metadata": {},
   "outputs": [
    {
     "data": {
      "application/vnd.jupyter.widget-view+json": {
       "model_id": "3c4fb4235c914901b5fce30d3a723e73",
       "version_major": 2,
       "version_minor": 0
      },
      "text/plain": [
       "VBox()"
      ]
     },
     "metadata": {},
     "output_type": "display_data"
    },
    {
     "data": {
      "application/vnd.jupyter.widget-view+json": {
       "model_id": "",
       "version_major": 2,
       "version_minor": 0
      },
      "text/plain": [
       "FloatProgress(value=0.0, bar_style='info', description='Progress:', layout=Layout(height='25px', width='50%'),…"
      ]
     },
     "metadata": {},
     "output_type": "display_data"
    },
    {
     "name": "stdout",
     "output_type": "stream",
     "text": [
      "  MovieID   UserID Rating\n",
      "0       8  1744889    1.0\n",
      "1       8  1395430    2.0\n",
      "2       8  1205593    4.0\n",
      "3       8  1488844    4.0\n",
      "4       8  1447354    1.0"
     ]
    }
   ],
   "source": [
    "from surprise import Reader, Dataset, SVD\n",
    "from surprise.model_selection import cross_validate\n",
    "reader = Reader()\n",
    "ratings = Training_DF\n",
    "ratings.head()"
   ]
  },
  {
   "cell_type": "code",
   "execution_count": 136,
   "metadata": {},
   "outputs": [
    {
     "data": {
      "application/vnd.jupyter.widget-view+json": {
       "model_id": "6661bd478b31491aaecf262a79d12ee2",
       "version_major": 2,
       "version_minor": 0
      },
      "text/plain": [
       "VBox()"
      ]
     },
     "metadata": {},
     "output_type": "display_data"
    },
    {
     "data": {
      "application/vnd.jupyter.widget-view+json": {
       "model_id": "",
       "version_major": 2,
       "version_minor": 0
      },
      "text/plain": [
       "FloatProgress(value=0.0, bar_style='info', description='Progress:', layout=Layout(height='25px', width='50%'),…"
      ]
     },
     "metadata": {},
     "output_type": "display_data"
    }
   ],
   "source": [
    "data = Dataset.load_from_df(ratings[['MovieID', 'UserID', 'Rating']], reader)"
   ]
  },
  {
   "cell_type": "code",
   "execution_count": 138,
   "metadata": {},
   "outputs": [
    {
     "data": {
      "application/vnd.jupyter.widget-view+json": {
       "model_id": "1e2f3edba3364edf9f988830341dbcae",
       "version_major": 2,
       "version_minor": 0
      },
      "text/plain": [
       "VBox()"
      ]
     },
     "metadata": {},
     "output_type": "display_data"
    },
    {
     "data": {
      "application/vnd.jupyter.widget-view+json": {
       "model_id": "",
       "version_major": 2,
       "version_minor": 0
      },
      "text/plain": [
       "FloatProgress(value=0.0, bar_style='info', description='Progress:', layout=Layout(height='25px', width='50%'),…"
      ]
     },
     "metadata": {},
     "output_type": "display_data"
    },
    {
     "name": "stdout",
     "output_type": "stream",
     "text": [
      "{'test_rmse': array([0.8486    , 0.84878618, 0.84900361, 0.84991701, 0.84922237]), 'test_mae': array([0.6610716 , 0.66110776, 0.6614615 , 0.66206601, 0.66121566]), 'fit_time': (151.85051584243774, 154.04868960380554, 154.76451110839844, 154.03843235969543, 156.92467069625854), 'test_time': (8.411004781723022, 8.50419569015503, 7.910414457321167, 8.537539720535278, 8.561997652053833)}"
     ]
    }
   ],
   "source": [
    "# Use the famous SVD algorithm\n",
    "algo = SVD()\n",
    "\n",
    "# Run 5-fold cross-validation and then print results\n",
    "cross_validate(algo, data, measures=['RMSE', 'MAE'], cv=5)"
   ]
  },
  {
   "cell_type": "code",
   "execution_count": 137,
   "metadata": {},
   "outputs": [
    {
     "data": {
      "application/vnd.jupyter.widget-view+json": {
       "model_id": "d49adbafb614413eb3fc4df7e4703f8b",
       "version_major": 2,
       "version_minor": 0
      },
      "text/plain": [
       "VBox()"
      ]
     },
     "metadata": {},
     "output_type": "display_data"
    },
    {
     "data": {
      "application/vnd.jupyter.widget-view+json": {
       "model_id": "",
       "version_major": 2,
       "version_minor": 0
      },
      "text/plain": [
       "FloatProgress(value=0.0, bar_style='info', description='Progress:', layout=Layout(height='25px', width='50%'),…"
      ]
     },
     "metadata": {},
     "output_type": "display_data"
    },
    {
     "name": "stdout",
     "output_type": "stream",
     "text": [
      "['MovieID', 'UserID', 'Rating']"
     ]
    }
   ],
   "source": [
    "print(Testing_DF.columns)"
   ]
  },
  {
   "cell_type": "code",
   "execution_count": 139,
   "metadata": {},
   "outputs": [
    {
     "data": {
      "application/vnd.jupyter.widget-view+json": {
       "model_id": "d70b0009a6d84fd8aec8a104ca8f8dbe",
       "version_major": 2,
       "version_minor": 0
      },
      "text/plain": [
       "VBox()"
      ]
     },
     "metadata": {},
     "output_type": "display_data"
    },
    {
     "data": {
      "application/vnd.jupyter.widget-view+json": {
       "model_id": "",
       "version_major": 2,
       "version_minor": 0
      },
      "text/plain": [
       "FloatProgress(value=0.0, bar_style='info', description='Progress:', layout=Layout(height='25px', width='50%'),…"
      ]
     },
     "metadata": {},
     "output_type": "display_data"
    }
   ],
   "source": [
    "from sklearn.model_selection import train_test_split \n",
    "from sklearn.linear_model import LinearRegression\n",
    "from sklearn import metrics"
   ]
  },
  {
   "cell_type": "code",
   "execution_count": 140,
   "metadata": {},
   "outputs": [
    {
     "data": {
      "application/vnd.jupyter.widget-view+json": {
       "model_id": "6e64292a146a4fcf8009eda6d0d465ca",
       "version_major": 2,
       "version_minor": 0
      },
      "text/plain": [
       "VBox()"
      ]
     },
     "metadata": {},
     "output_type": "display_data"
    },
    {
     "data": {
      "application/vnd.jupyter.widget-view+json": {
       "model_id": "",
       "version_major": 2,
       "version_minor": 0
      },
      "text/plain": [
       "FloatProgress(value=0.0, bar_style='info', description='Progress:', layout=Layout(height='25px', width='50%'),…"
      ]
     },
     "metadata": {},
     "output_type": "display_data"
    }
   ],
   "source": [
    "# sc.install_pypi_package(\"surprise\") "
   ]
  },
  {
   "cell_type": "code",
   "execution_count": 141,
   "metadata": {},
   "outputs": [
    {
     "data": {
      "application/vnd.jupyter.widget-view+json": {
       "model_id": "e049fbb8612e4826aed4496c5c6da9d8",
       "version_major": 2,
       "version_minor": 0
      },
      "text/plain": [
       "VBox()"
      ]
     },
     "metadata": {},
     "output_type": "display_data"
    },
    {
     "data": {
      "application/vnd.jupyter.widget-view+json": {
       "model_id": "",
       "version_major": 2,
       "version_minor": 0
      },
      "text/plain": [
       "FloatProgress(value=0.0, bar_style='info', description='Progress:', layout=Layout(height='25px', width='50%'),…"
      ]
     },
     "metadata": {},
     "output_type": "display_data"
    }
   ],
   "source": [
    "X = Training_DF[[\"MovieID\",\"UserID\"]]\n",
    "y = Training_DF[[\"Rating\"]]"
   ]
  },
  {
   "cell_type": "code",
   "execution_count": 144,
   "metadata": {},
   "outputs": [
    {
     "data": {
      "application/vnd.jupyter.widget-view+json": {
       "model_id": "9f3e2a534fdb418d94403b09cc90e7c6",
       "version_major": 2,
       "version_minor": 0
      },
      "text/plain": [
       "VBox()"
      ]
     },
     "metadata": {},
     "output_type": "display_data"
    },
    {
     "data": {
      "application/vnd.jupyter.widget-view+json": {
       "model_id": "",
       "version_major": 2,
       "version_minor": 0
      },
      "text/plain": [
       "FloatProgress(value=0.0, bar_style='info', description='Progress:', layout=Layout(height='25px', width='50%'),…"
      ]
     },
     "metadata": {},
     "output_type": "display_data"
    }
   ],
   "source": [
    " X_train, X_test, y_train, y_test = train_test_split(X, y, train_size=0.7, random_state=0)"
   ]
  },
  {
   "cell_type": "code",
   "execution_count": 145,
   "metadata": {},
   "outputs": [
    {
     "data": {
      "application/vnd.jupyter.widget-view+json": {
       "model_id": "a89f0f2147b14748bffb1cc3328a5f6b",
       "version_major": 2,
       "version_minor": 0
      },
      "text/plain": [
       "VBox()"
      ]
     },
     "metadata": {},
     "output_type": "display_data"
    },
    {
     "data": {
      "application/vnd.jupyter.widget-view+json": {
       "model_id": "",
       "version_major": 2,
       "version_minor": 0
      },
      "text/plain": [
       "FloatProgress(value=0.0, bar_style='info', description='Progress:', layout=Layout(height='25px', width='50%'),…"
      ]
     },
     "metadata": {},
     "output_type": "display_data"
    },
    {
     "name": "stdout",
     "output_type": "stream",
     "text": [
      "LinearRegression(copy_X=True, fit_intercept=True, n_jobs=None, normalize=False)"
     ]
    }
   ],
   "source": [
    "regressor = LinearRegression()  \n",
    "regressor.fit(X_train, y_train) #training the algorithm"
   ]
  },
  {
   "cell_type": "code",
   "execution_count": 146,
   "metadata": {},
   "outputs": [
    {
     "data": {
      "application/vnd.jupyter.widget-view+json": {
       "model_id": "b4925a89c5f74503b1d2890fa9c843df",
       "version_major": 2,
       "version_minor": 0
      },
      "text/plain": [
       "VBox()"
      ]
     },
     "metadata": {},
     "output_type": "display_data"
    },
    {
     "data": {
      "application/vnd.jupyter.widget-view+json": {
       "model_id": "",
       "version_major": 2,
       "version_minor": 0
      },
      "text/plain": [
       "FloatProgress(value=0.0, bar_style='info', description='Progress:', layout=Layout(height='25px', width='50%'),…"
      ]
     },
     "metadata": {},
     "output_type": "display_data"
    },
    {
     "name": "stdout",
     "output_type": "stream",
     "text": [
      "[3.48319658]\n",
      "[[-8.24087336e-07  3.92551740e-09]]"
     ]
    }
   ],
   "source": [
    "#To retrieve the intercept:\n",
    "print(regressor.intercept_)\n",
    "#For retrieving the slope:\n",
    "print(regressor.coef_)"
   ]
  },
  {
   "cell_type": "code",
   "execution_count": 147,
   "metadata": {},
   "outputs": [
    {
     "data": {
      "application/vnd.jupyter.widget-view+json": {
       "model_id": "732741bc418f4b4e9cdaab92e40a3f8c",
       "version_major": 2,
       "version_minor": 0
      },
      "text/plain": [
       "VBox()"
      ]
     },
     "metadata": {},
     "output_type": "display_data"
    },
    {
     "data": {
      "application/vnd.jupyter.widget-view+json": {
       "model_id": "",
       "version_major": 2,
       "version_minor": 0
      },
      "text/plain": [
       "FloatProgress(value=0.0, bar_style='info', description='Progress:', layout=Layout(height='25px', width='50%'),…"
      ]
     },
     "metadata": {},
     "output_type": "display_data"
    }
   ],
   "source": [
    "y_pred = regressor.predict(X_test)"
   ]
  },
  {
   "cell_type": "code",
   "execution_count": 148,
   "metadata": {},
   "outputs": [
    {
     "data": {
      "application/vnd.jupyter.widget-view+json": {
       "model_id": "a27062f6db1c4b4ca6efcd6df2ba419e",
       "version_major": 2,
       "version_minor": 0
      },
      "text/plain": [
       "VBox()"
      ]
     },
     "metadata": {},
     "output_type": "display_data"
    },
    {
     "data": {
      "application/vnd.jupyter.widget-view+json": {
       "model_id": "",
       "version_major": 2,
       "version_minor": 0
      },
      "text/plain": [
       "FloatProgress(value=0.0, bar_style='info', description='Progress:', layout=Layout(height='25px', width='50%'),…"
      ]
     },
     "metadata": {},
     "output_type": "display_data"
    },
    {
     "name": "stdout",
     "output_type": "stream",
     "text": [
      "        Predicted\n",
      "0        3.485821\n",
      "1        3.478739\n",
      "2        3.479684\n",
      "3        3.481406\n",
      "4        3.478131\n",
      "...           ...\n",
      "976601   3.476272\n",
      "976602   3.491998\n",
      "976603   3.483330\n",
      "976604   3.487264\n",
      "976605   3.489543\n",
      "\n",
      "[976606 rows x 1 columns]"
     ]
    }
   ],
   "source": [
    "df = pd.DataFrame({'Predicted': y_pred.flatten()})\n",
    "df "
   ]
  },
  {
   "cell_type": "code",
   "execution_count": 149,
   "metadata": {},
   "outputs": [
    {
     "data": {
      "application/vnd.jupyter.widget-view+json": {
       "model_id": "116383061ad3498989c48ae02ab6024c",
       "version_major": 2,
       "version_minor": 0
      },
      "text/plain": [
       "VBox()"
      ]
     },
     "metadata": {},
     "output_type": "display_data"
    },
    {
     "data": {
      "application/vnd.jupyter.widget-view+json": {
       "model_id": "",
       "version_major": 2,
       "version_minor": 0
      },
      "text/plain": [
       "FloatProgress(value=0.0, bar_style='info', description='Progress:', layout=Layout(height='25px', width='50%'),…"
      ]
     },
     "metadata": {},
     "output_type": "display_data"
    }
   ],
   "source": [
    "result = pd.concat([y_test, df], axis=1, sort=False)\n",
    "result = result.dropna(subset=['Rating'])"
   ]
  },
  {
   "cell_type": "code",
   "execution_count": 150,
   "metadata": {},
   "outputs": [
    {
     "data": {
      "application/vnd.jupyter.widget-view+json": {
       "model_id": "180296ad7afc4758aad292c7f2668510",
       "version_major": 2,
       "version_minor": 0
      },
      "text/plain": [
       "VBox()"
      ]
     },
     "metadata": {},
     "output_type": "display_data"
    },
    {
     "data": {
      "application/vnd.jupyter.widget-view+json": {
       "model_id": "",
       "version_major": 2,
       "version_minor": 0
      },
      "text/plain": [
       "FloatProgress(value=0.0, bar_style='info', description='Progress:', layout=Layout(height='25px', width='50%'),…"
      ]
     },
     "metadata": {},
     "output_type": "display_data"
    },
    {
     "name": "stdout",
     "output_type": "stream",
     "text": [
      "   Rating  Predicted\n",
      "0     1.0   3.485821\n",
      "2     4.0   3.479684\n",
      "4     1.0   3.478131\n",
      "6     4.0   3.486722\n",
      "9     4.0   3.471701\n",
      "11    3.0   3.482970\n",
      "12    2.0   3.480057\n",
      "19    5.0   3.487719\n",
      "24    2.0   3.472996\n",
      "25    4.0   3.485308\n",
      "31    2.0   3.493057\n",
      "33    1.0   3.484532\n",
      "35    1.0   3.478128\n",
      "37    3.0   3.483982\n",
      "40    4.0   3.485549\n",
      "41    1.0   3.482225\n",
      "43    2.0   3.482672\n",
      "44    4.0   3.478408\n",
      "47    2.0   3.474386\n",
      "56    3.0   3.487960\n",
      "60    2.0   3.475444\n",
      "62    4.0   3.481795\n",
      "66    3.0   3.482344\n",
      "77    1.0   3.478356\n",
      "79    5.0   3.485732"
     ]
    }
   ],
   "source": [
    "result.head(25)"
   ]
  },
  {
   "cell_type": "code",
   "execution_count": null,
   "metadata": {},
   "outputs": [],
   "source": []
  },
  {
   "cell_type": "code",
   "execution_count": null,
   "metadata": {},
   "outputs": [],
   "source": []
  }
 ],
 "metadata": {
  "kernelspec": {
   "display_name": "PySpark",
   "language": "",
   "name": "pysparkkernel"
  },
  "language_info": {
   "codemirror_mode": {
    "name": "python",
    "version": 2
   },
   "mimetype": "text/x-python",
   "name": "pyspark",
   "pygments_lexer": "python2"
  }
 },
 "nbformat": 4,
 "nbformat_minor": 4
}
